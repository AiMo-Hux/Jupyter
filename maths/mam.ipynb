{
 "cells": [
  {
   "cell_type": "markdown",
   "id": "ca3ade1a",
   "metadata": {},
   "source": [
    "![图片加载失败](http://5b0988e595225.cdn.sohucs.com/images/20171104/2ae04a176b584f6281c4f656be9b961a.jpeg \"这是题图\")"
   ]
  },
  {
   "cell_type": "markdown",
   "id": "f233622d",
   "metadata": {},
   "source": [
    "# 音乐？数学？有什么关系？\n",
    "\n",
    "## 音乐的高潮，和数学有什么关系？\n",
    "\n",
    "首先，先来说一个概念：黄金分割率。\n",
    "\n",
    "在一个线段 $AB$ 中有一点 $C$ ，使得 $AC:BC=BC:AB$,这个比值就叫做【黄金分割比】，他的近似值是0.618.\n",
    "\n",
    "通过下面的计算，我们就可以发现，如果 $a=0.618$,那么 $\\dfrac{a}{1}=a,\\dfrac{1-a}{a}=0.618$。"
   ]
  },
  {
   "cell_type": "code",
   "execution_count": 1,
   "id": "14e8423a",
   "metadata": {},
   "outputs": [
    {
     "name": "stdout",
     "output_type": "stream",
     "text": [
      "运行结果:\n",
      "a2 = a3，这个值是 0.618 , 0.618 是黄金分割比\n"
     ]
    }
   ],
   "source": [
    "from decimal import * #引入十进制运算库\n",
    "a=Decimal(0.618) #给a赋值0.618\n",
    "getcontext().prec=3\n",
    "print(\"运行结果:\")\n",
    "a2=Decimal(a/1) #将a/1保存为a2\n",
    "a3=(Decimal(1-a)/Decimal(a)) #将(1-a)/a保存为a3\n",
    "\n",
    "if a2==a3: #如果两个值相等\n",
    "    print(\"a2 = a3，这个值是\",a2,\",\",a/1,\"是黄金分割比\")\n",
    "else: #否则？\n",
    "    print(a,\"不是黄金分割比\")"
   ]
  },
  {
   "cell_type": "markdown",
   "id": "d79989e1",
   "metadata": {},
   "source": [
    "如果对黄金分割比感兴趣，可以自己去百度百科上找资料研究。在百度百科所写出的关于 **黄金分割比** 的内容中就有他与音乐的关系。"
   ]
  },
  {
   "cell_type": "markdown",
   "id": "c7fa9522",
   "metadata": {},
   "source": [
    "![HVgxEj.png](https://s4.ax1x.com/2022/02/03/HVgxEj.png)"
   ]
  },
  {
   "cell_type": "markdown",
   "id": "58d5455e",
   "metadata": {},
   "source": [
    "简而言之，一个乐谱的 **高潮部分** ，竟然可以用以下公式来计算!\n",
    "\n",
    "设这首乐曲共有 $m$ 小节，那么高潮部分就在 $0.618m$ 小节处！（大约）\n",
    "\n",
    "为了证明这个公式的准确性，我们可以找一个乐谱，比如钢琴考试 $10$ 级的《练习曲》\n"
   ]
  },
  {
   "cell_type": "code",
   "execution_count": 2,
   "id": "73a16a2f",
   "metadata": {},
   "outputs": [
    {
     "data": {
      "text/html": [
       "<details>\n",
       "  <summary>点我看乐谱，再点我收起</summary>\n",
       "  <div>\n",
       "<img style=\"transform: rotate(180deg);\" width=\"400\" height=\"300\" src=\"https://s4.ax1x.com/2022/02/03/HVWe91.jpg\" /> <!--69-->\n",
       "<img style=\"transform: rotate(180deg);\" width=\"400\" height=\"300\"src=\"https://s4.ax1x.com/2022/02/03/HVWm1x.jpg\" /> <!--70-->\n",
       "<img style=\"transform: rotate(180deg);\" width=\"400\" height=\"300\"src=\"https://s4.ax1x.com/2022/02/03/HVWEN9.jpg\" /> <!--71-->\n",
       "<img style=\"transform: rotate(180deg);\" width=\"400\" height=\"300\"src=\"https://s4.ax1x.com/2022/02/03/HVWVhR.jpg\" /> <!--72-->\n",
       "<img style=\"transform: rotate(180deg);\" width=\"400\" height=\"300\"src=\"https://s4.ax1x.com/2022/02/03/HVWAAJ.jpg\" /> <!--73-->\n",
       "</div>\n",
       "</details>\n"
      ],
      "text/plain": [
       "<IPython.core.display.HTML object>"
      ]
     },
     "metadata": {},
     "output_type": "display_data"
    }
   ],
   "source": [
    "%%html\n",
    "<details>\n",
    "  <summary>点我看乐谱，再点我收起</summary>\n",
    "  <div>\n",
    "<img style=\"transform: rotate(180deg);\" width=\"400\" height=\"300\" src=\"https://s4.ax1x.com/2022/02/03/HVWe91.jpg\" /> <!--69-->\n",
    "<img style=\"transform: rotate(180deg);\" width=\"400\" height=\"300\"src=\"https://s4.ax1x.com/2022/02/03/HVWm1x.jpg\" /> <!--70-->\n",
    "<img style=\"transform: rotate(180deg);\" width=\"400\" height=\"300\"src=\"https://s4.ax1x.com/2022/02/03/HVWEN9.jpg\" /> <!--71-->\n",
    "<img style=\"transform: rotate(180deg);\" width=\"400\" height=\"300\"src=\"https://s4.ax1x.com/2022/02/03/HVWVhR.jpg\" /> <!--72-->\n",
    "<img style=\"transform: rotate(180deg);\" width=\"400\" height=\"300\"src=\"https://s4.ax1x.com/2022/02/03/HVWAAJ.jpg\" /> <!--73-->\n",
    "</div>\n",
    "</details>"
   ]
  },
  {
   "cell_type": "code",
   "execution_count": 1,
   "id": "ffc857d7-e418-469d-bf4d-d6a6ea385f89",
   "metadata": {},
   "outputs": [
    {
     "data": {
      "text/html": [
       "<html>\n",
       "<head>\n",
       "<script>\n",
       "function a() {\n",
       "    xjs=parseInt(document.getElementById(\"calc\").value);\n",
       "    document.getElementById(\"block\").innerHTML=\"<b>\"+parseInt(xjs*0.618+0.5)+\"</b>\"\n",
       "}\n",
       "</script>\n",
       "</head>\n",
       "<body>\n",
       "输入乐曲小节数&nbsp;<input id=\"calc\" />\n",
       "<button onclick=\"a()\">提交计算</button><br /><br />\n",
       "乐曲高潮所在的小节数: <div id=\"block\">未计算</div>\n",
       "</body>\n",
       "</html>\n"
      ],
      "text/plain": [
       "<IPython.core.display.HTML object>"
      ]
     },
     "metadata": {},
     "output_type": "display_data"
    }
   ],
   "source": [
    "%%html\n",
    "<html>\n",
    "<head>\n",
    "<script>\n",
    "function a() {\n",
    "    xjs=parseInt(document.getElementById(\"calc\").value);\n",
    "    document.getElementById(\"block\").innerHTML=\"<b>\"+parseInt(xjs*0.618+0.5)+\"</b>\"\n",
    "}\n",
    "</script>\n",
    "</head>\n",
    "<body>\n",
    "输入乐曲小节数&nbsp;<input id=\"calc\" />\n",
    "<button onclick=\"a()\">提交计算</button><br /><br />\n",
    "乐曲高潮所在的小节数: <div id=\"block\">未计算</div>\n",
    "</body>\n",
    "</html>"
   ]
  },
  {
   "cell_type": "markdown",
   "id": "43f4b2b5",
   "metadata": {},
   "source": [
    "输入了小节数 $69$ 后，你应该得到了四舍五入以后的小节值:\n",
    "$43$。"
   ]
  },
  {
   "cell_type": "markdown",
   "id": "dc822ab6",
   "metadata": {},
   "source": [
    "让我们观察第43节前后，应该得到这一段\n",
    "![这是一张图片](https://s4.ax1x.com/2022/02/03/HV5MRA.png)"
   ]
  },
  {
   "cell_type": "markdown",
   "id": "4b4129bb",
   "metadata": {},
   "source": [
    "上图是第 $43$ 节到第 $49$ 节的截图。可以看到，这个地方音符复杂，左手右手甚至有一对多的情况，毫无疑问就是高潮了。\n",
    "\n",
    "事实上，本曲的高潮开始于第 $38$ 节。这个计算方法虽然存在一定误差，但是确实可以**较为精准**地找到一首曲子的高潮。\n",
    "\n",
    "**理论存在，实践证明成功!**\n",
    "\n",
    "关于这个理论成立原因，现有的资料把它归结于 **奇妙的巧合**,而由于历史原因，真正的原因就不得而知了。"
   ]
  },
  {
   "cell_type": "markdown",
   "id": "0a5054af",
   "metadata": {},
   "source": [
    "第一个课题的研究基本上已经完毕，接下来我们来看一些更有意思的事儿。\n",
    "\n",
    "## 音高？比的原理\n",
    "\n",
    "### Basic\n",
    "\n",
    "> 钢琴上每七个白键一个循环，分别叫做CDEFGAB(为何不是从A开始，而是从C开始？这是个历史问题。。。)，也就是我们熟知的”Do Re Mi Fa So La Si”，过了一个循环就下标加一，又叫升八度，即，C1, C2, C3, C4…"
   ]
  },
  {
   "cell_type": "markdown",
   "id": "661b97b7",
   "metadata": {},
   "source": [
    "看着很难理解，但是让我们看回文章开始的那个图\n",
    "![图片加载失败](http://5b0988e595225.cdn.sohucs.com/images/20171104/2ae04a176b584f6281c4f656be9b961a.jpeg \"这是题图\")"
   ]
  },
  {
   "cell_type": "markdown",
   "id": "130de2bf",
   "metadata": {},
   "source": [
    "我们所熟悉的\"Do,Re,Mi\",用音名来表示为“C,D,E\".而国际标准音是 **La** ,也就是 **A** 音。考乐理的时候，有一个环节是考官用钢琴弹一段乐谱，考生需要将这个乐谱在五线谱上画出来。而在考官弹奏乐谱之前，会先来弹奏一个 **La** 音，旨在为考生找到正确的音高。"
   ]
  },
  {
   "cell_type": "markdown",
   "id": "c024d9ab",
   "metadata": {},
   "source": [
    "### 高八度？低八度？”八度\"有什么意义？\n",
    "\n",
    "经常听说高八度，低八度，而\"八度\"是什么呢？这就要从【音高】说起。\n",
    "\n",
    "> 音的高低是由振动频率决定的，两者成正比关系：振动频率高则音”高”，反之则”低”。"
   ]
  },
  {
   "cell_type": "markdown",
   "id": "0cd88f61",
   "metadata": {},
   "source": [
    "查找资料发现，【音高】和【振动频率】成正比，那我们就来看看一些常见的音的\"频率\".\n",
    "\n",
    "刚刚说了，标准音是 **La** 音，即标准音高。而这个 **La**可不是键盘上的任意一个 **La** ，它的音高是 $A^4$,即 $440Hz$."
   ]
  },
  {
   "cell_type": "markdown",
   "id": "bdf9c196",
   "metadata": {},
   "source": [
    "那么，了解完了【音高】和【频率】，我们就可以触及正题【八度】了。\n",
    "\n",
    "简单的来说，高八度的音，【频率】翻一倍。"
   ]
  },
  {
   "cell_type": "markdown",
   "id": "ff0816e0",
   "metadata": {},
   "source": [
    "### 协和音程？这和比有什么关系？\n",
    "\n",
    "了解完了一些基本概念，我们就可以把它和 **数学** 结合起来了。\n",
    "\n",
    "如果你在钢琴键盘上面 **乱敲** ，你极有可能敲出一些 **不协和音程** 。\n",
    "\n",
    "问题来了，要让一组音（包含的音符数量 $0 \\le x\\le 2$) **柔和+动听** ，我们应该怎么来搭配音高呢？\n",
    "\n",
    "首先，如果你只敲一个音，也就不存在什么 **动听不动听**.换句话说，这组音中两个音的频率值比是 $1:1$ 。"
   ]
  },
  {
   "cell_type": "markdown",
   "id": "91c116b0",
   "metadata": {},
   "source": [
    "如果你同时弹奏 $A^4$(中央La) 与 $A^5$(高音La) ，他们仍然是十分协和的\n",
    "\n",
    "我国明朝音乐家朱载堉发明的 **十二平均律** 之中规定:\n",
    "\n",
    "> $A^4$与$A^5$之间的频率比是1:2。\n",
    "一个八度被分为12个半音，一个半音被细分为100个音分。\n",
    "\n",
    "后面的内容可以暂且不论，我们可以知道我们如果弹奏这组音 ${A^4,A^5}$ ，频率之比为 $1:2$.\n",
    "\n",
    "因为 $A^4$ 是440Hz,那么 $A^5$ 是880Hz.\n",
    "\n",
    "不仅限于 $A^4$ 和 $A^5$ ，事实上所有的纯八度，频率比为 $1:2$ ，也是协和音程."
   ]
  },
  {
   "cell_type": "markdown",
   "id": "4600d4d3",
   "metadata": {},
   "source": [
    "但是，听起来比较协和的音程，不仅仅有以上两种.\n",
    "\n",
    "弹奏 $\\{C^3,F^3\\}$，你会觉得它也是协和的.\n",
    "\n",
    "根据查找，$C^3$ 是261.626Hz ,$F^3$:349.228Hz。\n",
    "\n",
    "让我们计算他们的频率值比"
   ]
  },
  {
   "cell_type": "code",
   "execution_count": 43,
   "id": "c4366d2d",
   "metadata": {},
   "outputs": [
    {
     "name": "stdout",
     "output_type": "stream",
     "text": [
      "0.7492\n"
     ]
    }
   ],
   "source": [
    "from decimal import *\n",
    "res=Decimal('261.626')/Decimal('349.228')\n",
    "print(res.quantize(Decimal('0.0000')))"
   ]
  },
  {
   "cell_type": "markdown",
   "id": "5ca8d359",
   "metadata": {},
   "source": [
    "他们的比值居然正好是 $\\dfrac{3}{4}$！（当然，误差是有的）\n",
    "\n",
    "那么当然，在我们的认知中，$\\{C^3,G^3\\}$ 也是协和的。\n",
    "\n",
    "查表，$G^3$:391.995Hz"
   ]
  },
  {
   "cell_type": "code",
   "execution_count": 44,
   "id": "349736a4",
   "metadata": {},
   "outputs": [
    {
     "name": "stdout",
     "output_type": "stream",
     "text": [
      "0.6674\n"
     ]
    }
   ],
   "source": [
    "from decimal import *\n",
    "res=Decimal('261.626')/Decimal('391.995')\n",
    "print(res.quantize(Decimal('0.0000')))"
   ]
  },
  {
   "cell_type": "markdown",
   "id": "2c785b1f",
   "metadata": {},
   "source": [
    "发现巧妙之处了吗？没错！这次是$\\dfrac{2}{3}$！其实我们上面算的都是 **（极）完全协和音程**。现在，我们可以得出结论了\n",
    "\n",
    "极完全协和音程，两个音频率之比为 $1:1$ 或 $1:2$ ；\n",
    "\n",
    "完全协和音程，两个音频率之比为 $3:4$ 或 $2:3$。\n",
    "\n",
    "我们用计算机的计算证明了，人类认为\"非常协和\"的音程，频率之比就是 1:1,1:2,2:3,3:4四种。"
   ]
  },
  {
   "cell_type": "markdown",
   "id": "cdaa14a4",
   "metadata": {},
   "source": [
    "当然，还有一些不完全协和音程...这些这里就不计算了。通过这次计算，我们知道了人们听着顺耳的音，居然也和比有关系。"
   ]
  },
  {
   "cell_type": "markdown",
   "metadata": {},
   "source": [
    "### 延伸拓展\n",
    "\n",
    "我们已经证明了以上规律，是否可以拿来做一些更有意思的事情呢？\n",
    "\n",
    "例如，我们把上面发现的几个比按比值大小排序：\n",
    "\n",
    "$ 1:1 , 1:2 , 2:3 , 3:4$\n"
   ]
  },
  {
   "cell_type": "markdown",
   "id": "741d76c2",
   "metadata": {},
   "source": [
    "那么我们可以想象以下，如果是 $4:5$会如何\n",
    "\n",
    "毕竟按照这个规律 ($1:1$ 无视)，接下来就应该是$4:5$嘛。"
   ]
  },
  {
   "cell_type": "markdown",
   "id": "6f60b2c1",
   "metadata": {},
   "source": [
    "首先，中央 $C$ 的频率是 $261.626$，我们来计算一下第二个音的频率值."
   ]
  },
  {
   "cell_type": "code",
   "execution_count": 48,
   "id": "8a5ae5bd",
   "metadata": {},
   "outputs": [
    {
     "name": "stdout",
     "output_type": "stream",
     "text": [
      "327.0325\n"
     ]
    }
   ],
   "source": [
    "from decimal import Decimal,getcontext\n",
    "\n",
    "C=Decimal('261.626') # 中央C\n",
    "nibanme_oto=C/4*5\n",
    "\n",
    "print(nibanme_oto.quantize(Decimal('0.0000')))"
   ]
  },
  {
   "cell_type": "markdown",
   "id": "b51d4060",
   "metadata": {},
   "source": [
    "经过查表，没有对应 $327.0325Hz$ 的音。但是我们可以看一看下图。"
   ]
  },
  {
   "cell_type": "markdown",
   "id": "1ce0a979",
   "metadata": {},
   "source": [
    "![](data:image/png;base64,iVBORw0KGgoAAAANSUhEUgAAAiYAAABiCAYAAABkmBgVAAAAAXNSR0IArs4c6QAAAARnQU1BAACxjwv8YQUAAAAJcEhZcwAAFiUAABYlAUlSJPAAABlbSURBVHhe7Z3/SxxHH8f7p/nT0qA0nLREKSG0VtIkPMKBIClPsFQiT01LteUxDU0CwUC40Gh5ypU+jaWSUJHHYkkxGBJbLJYLV6pELhQE4fPM7M6ce3ezc7M7c3fe+H7BG8Ld7XmZ/Xw+8975svvKy5cvCVJrd3c3lOo9yExoP8iVEEv+CzUX4oIx0QhJYi+0H+RKiCX/hZoLccGYaIQksRfaD3IlxJL/Qs2FuGBMNEKS2AvtB7kSYsl/oeZCXDAmGiFJ7IX2g1wJseS/UHMhLhgTjZAk9kL7Qa6EWPJfqLkQF4yJRkgSe6H9IFdCLPkv1FyIC8ZEo5YmycMr1NPTQz1Ty+r3PRGKDORKiCX/1dKaC3WNmhuTvTJtFK/S6HCOAt6RMgW5IRq9tUq79Z8tbVDx2igNneoVnw2o99QITS48ovJe3We7QC1NkjTGpLRMM28HdOWh4r0GbdCNwR7q/Wy1+tr23XPUE1yh5ZrPtUdW7ecinvY2aP69HJ27s6l+X6Usx6hk+D2b3yvy69oSbTb8H5fpivhMU50v0HbNsd2vjseS1K9LdHVsiHKvirZ+NUdDY1dp6VfFZxO0sXCRcu8WaFPxXqL+N0O94W/vTC63Q+5r7jbN56PzlJSHmw8LNDkyYHU+IbfSGxNWWAv5IDpZ9WpIqk0qvKv4nFDACmVjoT3acp8kMRkak83vZ2hIJIyRMSkVaZR9dvzbw9+9dJkdP1qkcvxzbVL29rOPp/LPBbp4KopfU5OR5RiVzL5nk4rMuMj/U72CU6wDKsc/b25MRha2Y8f5oU7GktRmkRkKxXeECgZYjpaVx1VVekSFfw5E5iiVMYn/H2BMTLXL6mxk5hLyUNZhpXLNzyfUEmmMyTYVR6PCGrx9hYq/bNOuSN7dJ8s0d63YYEzm/zVJhYcbVN4Vr+3t0sbDqzQiOtbR/3TXSXadJDVqYky2f5qnyeFaU2hkTJavsKI3RHPP5GvRCMrAFxu1n2uTbDqTrPG0+4xd0Y6K4i/UzGRkOUaldN8TGY1geCbML/n67pMiTQpTk4uNfDXXLt3/gB83Tvf/Ur3f3epELNVreYp9/tUhmik+om1pZv7aoOJlcc5fn6FVlcnZ3aSla6M0EBzGRRpjUv52PBZTMCZGYhfWN84ctrcyD5dv0Cjryx79evg3d7cf0bw8n6+x8xn/PNQWJRoTmQguRjrK7CojDI4uW0/hNEnqpTEmm3fOiWQKaOCf8zT3QZRYJsYkPDY+baMYQWmnWtF+2niKXQEFw1epMDsU/ltrMrIco1Lq71ml+TsJhvHXAp3j35WmMG7P0wj/2x/cb5xm9UBtjyWFVr8s0IayHsoRjV6a+an+vdhIFzM1V+9epSH+b1NjUl6iydd6qPfyJF0MvwfGxESbt3kdPUeTlzPk894jusou6PjxBUzptF0JxmSD5kKn6eikiIIdfAxjUpXOmNwdpdN8jvNZ9LfDqzT2WRNj0jBt8xOfl46PoLRXLWk/XTw9nKHcyCTN/xSNQEiTpzcmGY5RydX3hJKdmXkntHHrNPs86xj/p36/29X2WEqp5DxdppkcX8+yGo2ySNNpZEzK7Htz7GJjlIrb6WOi2+Ss5j5jbRxEI47Z8lAaTdYHbqneh1optTGRiTPu5sorcq4BjX/Xok6+RXKRJLULG4Ow4yo+Ye9pjEm9tMZEjIiE32Wk9g7zt6IzSRNPWYqSnaE4lNX37LGrZH6+TEdM9lZphl1V95yZow3V+x6o07HUTOFFgXLEpE4pjEmZ1Ykc+33n7vIYgjEx0h4zFecD6nmdtROrdZnyUIxS+ZxPR1lKY1L+z2h4IsN5V75Ya/w09YZzo9FK9pnihtFCyt3SBi3fihaL5VgH3InFlzaySxJ2pfNx7VqDqgLmwm9PRv+2NSZxKaZtlj9mCdrBHRouO5Ms8dS1xkTswAgM4oNr97to6tXHRa9SnY4lraQx5NOozaa+TY1J+T6Ns7obTqeHr8GYmGjjCz5ymKMry9H3pMrD3TJt/lKkK2+zusnrdIdGmo+7lMZk44uB8EReKbJEeD3qFOulTubG1e/BqVG6+r1dge+UbJJkm5m70JQEQ3Tl+43qwuGX8YVVXC6NScO0zSbNvV27dbjdsisy9vHUlcZELtrjhdFoKlVMvQZ+LnqV6nQs6RR1hnJkQ/2ZqkyMibzqD6dw5OswJs0UjTBFUzjytaZ5KEevqwpo6F/z9Kik+CzUFimNSdQRnqaRfI5y7xVodVsECl/JXpwUK8t7WUdZH0CNyc8V5EZoZqn7ruSyJ4m4emKuXT2sW6aly71R+zg0Jg33K/mLXXGx4zq18JXLdWfClSaeus6YVLfo59h5M8wZMbrSO905A9oOdTqWkrRxZyS80Mh9cP9wp45OTY2JWFfSsF0VxkQrsa6kfsNGemPCFPTS6fECParZrg+1SxpjwvTunHJHzvbCSPR+kzUou+VNelSU9+EwvJo4QsqcJM/molX3+fnkKRRXa0xiCj93hBa+ctl1JrXKEk9dZUx+FduEgyGaWTbdWi+3CJ+mOb52SfkZP9TpWGrQ3qbYJsyusD9bNr9RWxNjwuOGf2dj3MCYJKosRvf5upI6M5EqD9nFd5nfDkPea0asU1F+FmqZtMYkcW+/XHBpsHgr1NY8jfJRFpP51yOkzEkiTIf23iFOjIkcmTGVwcI8x3LZmVSVIp66xZhsfxuNRPJ7miyl2QUgtghrTbAn6nQs1WjrfmQi+T1N0o64aIyJnIo4XFcSF4yJUnLaK7auJK6s+bw6Hd380LYOQOmlNCabt6N938lX6CJBjO+xwK7qxnlCOdp+3CZlShIuYTqGbmsC2vWISdIdXzu48JWrJZ1Jing6+sakTI++iK6QR26lvz16tEW4s9N17VKnY0mq/PONaMogP5dtHUKiMVFPNyWru+qpiTLVXFlLTWVQc0M9vkEDaT4POZPSmLxcinaMJF7xpx0xOW7GJLz7Kvv/aqa6dr8dN04SI2PSMG3T+MycTqjTnclRNyb8MwG/0lsynbqJqboTxO9Fr1KdjqVQ8v4YU0vZn/8FY5KoTDUXxsQ7qY0JXzTJhzdfm6QlxeKfaO9/itucbzMjk2W4tMPKlCRcYtEpLxzK9R17mzQnC5AjY9Kw8FUxgtIJtaQzSRFPR9qYiA7qtGke1UluEfZ90atUp2OpahzO3Ei4+6uhmqwxSRamcrIoaz6vfoapnE5JbUyY5Enhz8mRdyB9ubdNq3fEQ6xqtrGxk//luHjmQPlwa2z4PIo5uii2HGctwJ1S9iTZZWZC7Lp5/SIVfoo9Z+jZMl3NB5R7PWpfV8ak4Y6vDc/M6YyyFhlX8dQKY7L5Jd+FkaPx7/RrC5p+j3hfOxKWKPnUVP8XvUq1M5Z2l2doIAho6Oajw9elobC9goYxSVT2mpus5Dxcppnz4hlKsRFH/qyc4sdD0ag3H43Ezpy2K9GYHC4oihK3Vo1PXZQnX62ABi4bbqU7QrJKEr5KXDyIrV7B21dp9VuXa0waH9QXrhOKj6B0SJk7E0fx1MwcqKQ/Jjbc3mTBabO/Lc9rU6li5MkcnebvHYNFr1LtjKXquXk1to7OeMqgSd7BmCTKquYmKDkPZXsm6NURmvs5wxQrZK1kY8K1t03Lt8ZpKCc6WL63mz/DRTWvyYzM0s1xGjnVGznN8MTmaGCEO1LzTuEoyTpJeJtcG6XTr4n2Y+0xMr0UbcF2vfj1iCpz+zmKJ/fGhL1/l4+YBHSxaDdiYmNMVqf5iFz3PebBRu2MJb47ho+YDFyLTZPBmLRc1jVXIV0eln+ep5mxIcqJp0zznOo9NRSOsG3gBmsdk96YHHO1IkmOm9B+kCshlvwXai7EBWOiEZLEXmg/yJUQS/4LNRfigjHRCEliL7Qf5EqIJf+FmgtxwZhohCSxF9oPciXEkv9CzYW4YEw0QpLYC+0HuRJiyX+h5kJcMCYaIUnshfaDXAmx5L9QcyEuGBONkCT2QvtBroRY8l+ouRAXjIlGSBJ7of0gV0Is+S/UXIgLxkQjJIm90H6QKyGW/BdqLsQFY6IRksReaD/IlRBL/gs1F+KCMdEISWIvtB/kSogl/4WaC3HBmGiEJLEX2g9yJcSS/0LNhbhgTDRCktgL7Qe5EmLJf6HmQlwwJhohSeyF9oNcCbHkv1BzIS4YE42QJPZC+0GuhFjyX6i5EBeMiUZIEnuh/SBXQiz5L9RciAvGRCMkib3QfpArIZb8F2ouxPWKDAQIgiAIgqBOC8YEgiAIgqAjo1cIJCIbCWQH7QdcgVjyH9RcwIEx0YAksQftB1yBWPIf1FzAgTHRgCSxB+0HXIFY8h/UXMCBMdGAJLEH7QdcgVjyH9RcwIEx0YAksQftB1yBWPIf1FzAgTHRgCSxB+0HXIFY8h/UXMCBMdGAJLEH7QdcgVjyH9RcwIEx0YAksQftB1yBWPIf1FzAgTHRgCSxB+0HXIFY8h/UXMCBMdGAJLEH7QdcgVjyH9RcwIEx0YAksQftB1yBWPIf1FzAgTHRgCSxB+0HXIFY8h/UXMCBMdGAJLEH7QdcgVjyH9RcwIEx0YAksQftB1yBWPIf1FzAgTHRgCSxB+0HXIFY8h/UXMCBMdGAJLEH7QdcgVjyH9RcwIEx0YAksQftB1yBWPIf1FzAgTHRgCSxB+0HXIFY8h/UXMCBMdGAJLEH7QdcgVjyH9RcwIEx0YAksQftB1yBWPIf1FzAaW5MDiq0tXidxs72U9DTQz1MQf8wjd1Zp33xES2/zFJfeNw0rYmXuoWOJ8nBFhUv9dOFeyXxQvdh1X4vtmjx5hgND/SJ2AuobyBPU988pcqB+IyC0o+KeL25QiXNMfTiKRU/ylP/CXHMyUHK/3uRtiri/TSkzBmb3zt4MgiP6Qn6aDA/RcUnWX5wd9CJWEoiPGdvHX5X/9kJWkhq+2o8DFJfIM4xj6+PivT0hfiMCV1cS01xX3N3qDgatbl5Hc1yDHCJ3piwjnFhVBS+ep1foOanrEQL5+UxMCZpqDxZoEsDUdsfT2MSj51GBf9g8dfQoZRokRk51ee5ggEWg4q+o8IK/rDoMBr0hvqYRFLlTLbfS38s0IWk39vTT9OrfpqT9sZSEhVa+3SwaiJrFShztXTvguKzQsEFWvhDfFBLd9dSU1zX3P3VaWHmzOtolmOAWzTGZIcWx6ICG7wzTYvPdmhfJO/+72tUuLlYV2QbqfwwEUtgGBMT9v9YoetjtYXvuBqT4kdTtLC6RRU5zHCwT1ur1ykvRjXG/lvfAa/RNHs9ODsbxqtk//dFmhImr//zdfGqoPKAJsJOPqD8nXXaEX+Ln4fpd0T8Tz4wGx1MnTMZfi9tUeGt6PcOfrhIW3+Ll/d3aP3WhShuTs7SeoZRgKNOe2NJTbWmnchT4bE4Zwes7e9don7+eg8zGs+jlyWlr6do6t4abVX/eBQP16WBHVtkdkdPt9dSU5zWXHaRMBfmSiSjOprlGOCcRGMiEyHd1USMygpNneyhvg+n6FJ4kmFMmsKcukyI4Ox1WvhiuOuToxXtV1m8FLXTJ/URtU7Fe1vi33U8X6AL/BjeaYuXOFt3zoTfdeaW4jgRwz09eSoe+oZE0udM+t9bff3NOWZR6pFX1Y2dow+0N5ZUSFPYT7OPxUsx1j+PRr8GVbGkorJoVhs9qKWmuKy5pbt8pOoCTX1oXkezHAPck2BMZAJmLXAVWvuEJWkwRos70VUhjIkBq7PUz9cJiCsxOQQMY1KHMHDBp2kiShWHFVoc08f51q3B8G81v6K2zZl6EvLmT2FMlFfZ8v/D8i7N2oUuoeOxJE3haJGUPlW+/06hbmQsCXGOA11t9KOWmuKs5orpTj7iaFxHsxwDWoLamMgEmzAdwq6lwpK9n8+3fsVP6vE2JpUnRZrKxxc2igV34n0dMCZqoquagCYepIjOA3bVyc9BzQiEHGHQxKZpx2WZMw0ofy/n0AAV6tcm/FEIf0PATIvBAE/X0elY2v9hIoyF4btJ+bhOs+EI2xStmIyYyfOlmSr0pZaa4qLm0gHL638E0fqwvw3raJZjQMtQGpPKf8fCkxJeJb54SgsTZ8Rq8mgl++ziVnLHKubsw+Hs8IXjakwqtP75cGxeuFb9n6w1NScwJrXsv9iitTvRXL5J+9UgdjQENUP20pgMN3bykpWp6Jw1Geq3yhkVyt8rkItfTwzT7I8l2j/Yp9KPszTM10u8MUEPfHQljE7HUuluNLw/tSJeaGCHdW78nDcZNfu7QlurBbr0Bj9frC4m/XGPaqkpdjU3YusWn57tp+m1yO6Z1NEsx4DWoTQmcvh6epElAk+eMBlqpUxm6TrDYUfx2jE1JjusowpNyRuXaOFxfBGkXNjY/CoNxkQah0MFA2N0nXXGqZAL2vgOiLoOY/3zvvB7lWtMWIQ/mBALFJsYk8w5o0Lze6v8Wb9IOqDB9xfoaSr30110OpbWPomOm14VLyiIPtN43mQuVxUM6reEe1ZLTbGpuZxohInlWmzReLM6muUY0FqUxiRKrjOUH+2n/ksLtC63KvCV7ItTNBheCfaxBI13rGIutGG74nE0JmJIN2kr4G9zdIa3SZNhfxiTxs6Ei0+Hza4YDgtUt+/208QPimPkuWDvX7p3uCuHdp5S8UPW8QdB1Pk3MSbZckZBs98rqI6QMEMSnIjMU3DyQjiC4iudjiVzY9LXsDi2wZhwnein/L9XaKfBnPhXS03JXnMZYiSxfvG5to5mOQa0HI0xYTpfUDr6nW/y0fuxjpWfyIAVycYTeQyNCevsBtn/WTkMH8KuiN9kbaJd9OZHcth1JrXsV0r0dPGwQ47m3TU8F6NTwTDNam5GEsUu/856sY7h3vVo7YiRMWFKkTMNGP3ew/to8G3GK+LKfOexvO9NQIOfppzm6hI6GksMc2PSZCpnv0KlZ4s0e1YYyupUTYSPtdSUzDW3wtomYWossY5mOQa0Ba0xSdyJ8GKRxniCiBtGyaGw+gSLOIbGRCyYbC4Yk0z8WaQxPgLBjZ3CBHB2fohGKcLO+0/xoobaRcoB9b0l7uQpzmWzc5A2Z+ox/b3y5k/Be8XGK+2DLSqEowLsiv0X8ZpHdCqWJHLaL9mYNN/lVcPBDhXD+94E1e/0tZaakqnmymkvfiEh1ojEUdbRLMeAtqE0JnKRV3ICigQJdwyoh0iTZZi0R4BMScKBManSks6E9unBBG8/VSxV6Gl4o7GA8ney3W48TrR2pHFovp50ORMn3e9d+4QX00Ga+028UA+LvXA0JdVW6u6g/bFUy85XIh+/Spr6ESOhKYyD3OkT5bi/tdSUTDXXuN4K8dHPLMeAtqE0JnInQuKNgmqu/mBMGngc7ajoa7hrZzpgTJJI7kx4mwX8KmglYeQiDdVFqKyjaWZwUuXMIel+r8w1TQ7JbcseFtJ2x1IDIq8Tp+Nk2xvcyVUCY1JLppoLY+IdamPyt7hN98kpUtXLaO+/6R0Oj+FUTpP2MwXGJIEd1smrht9Fx6DeYZOeLRbnfPTB6Puy5Ezq3ys70YAmflAHlowZW1N8FGlrLKk4kPcpUdxDhiHv/Jr/xnBhdvURBodTOXowlZOFLHXUh9rbzaiNCUMmGX/mx8of4vog/kyImm1sOo6hMWHE22/xGb/XhHjjYJ8qv6/RwkfDNNukGB1nY1L6eoLGbi7S0+eVmrar3v+BtUt9hy7by6zIS9Zo7v0Crf1+eA28/3ydFt4XW3HFDZfilL7Oh6McE3U3DEmbM1l+7/4D8cyUYLB2FxF/Vk71eS3qW6Z3O+2Mpf21WRoMAhq+/VS8EiHPmbwNQEj8HL8xW/ucoudFmnjvelgDYo/KiZ6dJB/g+NYcbTUzRSEwJlnIUkd9qL3dTKIxOVwcFCVurfpZMTUdCjiexkTfflzsKqlJg/iQHJk7E9kBKMUfYPegYfFndWdMM9UMy8r4VIh1PosNV8ax4fb6W5OnzJlsv1duJVV8LlRAeYMdJt1IR2LpRN2aIH6Ok54erbo9gJzeSVAwMEUPDBZnR8CYZAHGpPtINiYcdiWwdmeChvtFIgZ9dIa5f7lF0Yxjakw4BxV6+s0U5Qf6oqtcpuDkIA3zK6jfmhu742xMeAewcnuipu34fR8G8/wpser2yNbR86vd+DmK7tTKnwabdPOr0ld8xCSgS6ohwxQ5k+33RpR+vE5jZ2OPOkgRV91KO2OJ747hIyaDNxVTYjyv78XOMfuu4YkCrSUYjNKPczSRHxR3AuYKqP9NfYypgTHJAoxJ96E3JsecViTJcQPtB1yBWPIf1FzAgTHRgCSxB+0HXIFY8h/UXMCBMdGAJLEH7QdcgVjyH9RcwIEx0YAksQftB1yBWPIf1FzAgTHRgCSxB+0HXIFY8h/UXMCBMdGAJLEH7QdcgVjyH9RcwIEx0YAksQftB1yBWPIf1FzAgTHRgCSxB+0HXIFY8h/UXMCBMdGAJLEH7QdcgVjyH9RcwIEx0YAksQftB1yBWPIf1FzAgTHRgCSxB+0HXIFY8h/UXMCBMdGAJLEH7QdcgVjyH9RcwIEx0YAksQftB1yBWPIf1FzAgTHRgCSxB+0HXIFY8h/UXMCBMdGAJLEH7QdcgVjyH9RcwIEx0YAksQftB1yBWPIf1FzAgTHRgCSxB+0HXIFY8h/UXEBE9H+HI8nQAVSoswAAAABJRU5ErkJggg==)"
   ]
  },
  {
   "cell_type": "markdown",
   "id": "fa209cb5",
   "metadata": {},
   "source": [
    "这个值应该在 $D^3\\#～E^3$之内，和”小三度“的不完全协和音程相匹配。\n",
    "\n",
    "那么我们可以再试试 $5:6$?"
   ]
  },
  {
   "cell_type": "code",
   "execution_count": 49,
   "id": "73f356d7",
   "metadata": {},
   "outputs": [
    {
     "name": "stdout",
     "output_type": "stream",
     "text": [
      "313.9512\n"
     ]
    }
   ],
   "source": [
    "from decimal import Decimal,getcontext\n",
    "\n",
    "C=Decimal('261.626') # 中央C\n",
    "nibanme_oto=C/5*6\n",
    "\n",
    "print(nibanme_oto.quantize(Decimal('0.0000')))"
   ]
  },
  {
   "cell_type": "markdown",
   "id": "8096d787",
   "metadata": {},
   "source": [
    "可以看到，这个值和 $D^3\\#$ 更接近了。"
   ]
  },
  {
   "cell_type": "markdown",
   "id": "8bdecf8d",
   "metadata": {},
   "source": [
    "由于篇幅原因，就不继续延伸了。"
   ]
  },
  {
   "cell_type": "markdown",
   "id": "968b441e",
   "metadata": {},
   "source": [
    "## 古代的吹管乐器中的数学原理"
   ]
  },
  {
   "cell_type": "markdown",
   "id": "f9283fe4",
   "metadata": {},
   "source": [
    "### 从一个共鸣器开始\n",
    "\n",
    "我们知道，开管空气柱振动频率的计算公式是 $f=\\dfrac{c}{2l}$。其中$f$表示频率，$c$表示声速，$l$表示空气柱的长度。\n",
    "\n"
   ]
  },
  {
   "cell_type": "markdown",
   "id": "0c47ac88",
   "metadata": {},
   "source": [
    "这个公式表明空气柱的振动频率 f 与长度 l 成反比，其中 c 为声速。这种比例关系与弦振动频率与长度的关系类似，都是通过改变长度调节振动的频率。\n",
    "\n",
    "![][gsmnqi]\n",
    "\n",
    "这个共鸣器是 【亥姆霍兹(H. von Helmholtz,1821~1894)】设计的，是吹管乐器的理想模型。\n",
    "\n",
    "以上是外国的成就，下面我们来说说中国的\n",
    "\n",
    "\n",
    "[gsmnqi]:data:image/png;base64,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"
   ]
  },
  {
   "cell_type": "markdown",
   "id": "278219fd",
   "metadata": {},
   "source": [
    "### 什么是三分损益律？\n",
    "\n",
    "\n",
    "我们刚刚在研究协和音的时候已经说过:\n",
    "\n",
    "【如果一个音的波长为a ；另一个音的波长是a/2 的话，那么，后一个声音就是前一个声音的“纯八度”高音。同理，如果一个声音的波长为a ，另一个声音的波长为a的两倍，即2a，那么，后一个声音就是前一个声音的“纯八度”低音。】\n",
    "\n",
    "没错，中国古人虽然不懂得机械波的物理学理论，但是他们却总结出了跟现代发声理论完全一致的道理。一件圆径固定，长度固定的发声器所发出的声音是一个定值，如果另一件圆径相同发声器的长度是这件发声器长度的一半的话，那么，另一件发声器所发出的声音，就是一个纯八度的高音。同理，如果另一件发声器的长度是原来发声器长度的二倍，那么，另一件发声器所发出的声音，就是一个纯八度的低音。　中国古人所使用的音阶是“五声音阶”，即“宫商角 徵羽”五个音。其中，宫相当于西洋音阶的1（do），商相当于2（re），角相当于3（mi）， 徵相当于5（sol），羽相当于6（la）。\n",
    "\n",
    "在这个基础上，古人发明了 我国古代著名的“**三分损益法**”！\n",
    "\n",
    "> 三分损益法是古代中国发明制定音律时所用的生律法。根据某一标准音的管长或弦长，推算其余一系列音律的管长或弦长时，须依照一定的长度比例，三分损益法提供了一种长度比例的准则。\n",
    "中国音乐有悠久的历史和独特的创造。秦以前，中国已创造了乐器和乐曲，发明了乐律。汉唐盛世，中国音乐以歌舞音乐见长；宋元以后，则以戏曲音乐为主。当今世界公认的音乐律制，如五度相生律（中国称三分损益律）、纯律和十二平均律，中国皆独立发明。 [1]  --Adapted from Baike\n"
   ]
  },
  {
   "cell_type": "markdown",
   "id": "76733591",
   "metadata": {},
   "source": [
    "三分损益包含“三分损一”、“三分益一”两层含义。三分损一是指将原有长度作3等分而减去其1份，即：$原有长度 \\times \\frac{3-1}{3}=生得长度$；而三分益一则是指将原有长度作3等分而增添其1份，即：$原有长度 \\times \\frac{3+1}{3}=生得长度$。两种方法可以交替运用、连续运用，各音律就得以辗转相生。\n",
    "\n",
    "可能有点难以理解，那我们继续往下看看\n",
    "\n",
    "以一段圆径绝对均匀的发声管为基数——宫（$do$）；然后，将此发声管均分成三段，舍弃其中的一段保留二段，这就是“三分损一”，余下来的三分之二长度的发声管所发出的声音，就是“宫”的纯五度高音—— 徵（$sol$）；将 徵管均分成三份，再加上一份，即 徵管长度的三分之四，这就是“三分益一”，于是就产生了 徵的纯四度低音——商（$re$）；商管保留三分之二，“三分损一”，于是得出商的纯五度高音——羽（$la$）；羽管“三分益一”，即羽管的三分之四的长度，就是角管，角管发出羽的纯四度低音——角（$mi$）。"
   ]
  },
  {
   "cell_type": "markdown",
   "id": "8457efaf",
   "metadata": {},
   "source": [
    "简单的画个图来理解一下\n",
    "\n",
    "[do2so]:"
   ]
  }
 ],
 "metadata": {
  "kernelspec": {
   "display_name": "Python 3 (ipykernel)",
   "language": "python",
   "name": "python3"
  },
  "language_info": {
   "codemirror_mode": {
    "name": "ipython",
    "version": 3
   },
   "file_extension": ".py",
   "mimetype": "text/x-python",
   "name": "python",
   "nbconvert_exporter": "python",
   "pygments_lexer": "ipython3",
   "version": "3.9.7"
  }
 },
 "nbformat": 4,
 "nbformat_minor": 5
}
